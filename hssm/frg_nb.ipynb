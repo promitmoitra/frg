{
 "cells": [
  {
   "cell_type": "code",
   "execution_count": 1,
   "id": "d74d963a-d644-4f97-a82e-fdb8f79211aa",
   "metadata": {},
   "outputs": [],
   "source": [
    "import numpy as np\n",
    "import matplotlib.pyplot as plt\n",
    "%matplotlib widget\n",
    "import pandas as pd\n",
    "from scipy.optimize import curve_fit\n",
    "from sklearn.linear_model import LinearRegression"
   ]
  },
  {
   "cell_type": "code",
   "execution_count": 2,
   "id": "7698b352-5048-4684-8751-0859e2a215aa",
   "metadata": {},
   "outputs": [],
   "source": [
    "df = pd.read_csv(\"frg_norm_hssm.csv\")\n",
    "trial_time = 3\n",
    "stress_dict = {1:'pre',2:'post'}\n",
    "tt_dict = {5:'short',20:'long'}\n",
    "leave_resp_filt = df[\"response\"]==0"
   ]
  },
  {
   "cell_type": "code",
   "execution_count": null,
   "id": "0b50ee22-413d-43b4-9dce-8989de35c6da",
   "metadata": {},
   "outputs": [],
   "source": [
    "# def neg_exp_resp(x,a,b):\n",
    "#     return a*(1-np.exp(-b*x))\n",
    "\n",
    "# def cum_rew_func(df,subid,stress_cond,tt_cond,ax,c):\n",
    "#     subid_filt = df[\"subj_idx\"]==subid\n",
    "#     stress_filt = df[\"condition\"]==stress_cond\n",
    "#     tt_filt = df[\"travel_time\"]==tt_cond\n",
    "#     patch_leave_idx = pd.Index(df[subid_filt & stress_filt & tt_filt & leave_resp_filt].index)\n",
    "#     patch_entry_idx = pd.Index([df[subid_filt & stress_filt & tt_filt].index[0]]+list(patch_leave_idx+1))\n",
    "#     patch_trial_idx = [list(range(i,j+1)) for (i,j) in list(zip(patch_entry_idx,patch_leave_idx))]\n",
    "# #     rel_patch_trial_idx = [np.array(i)-i[0] for i in patch_trial_idx]\n",
    "#     rel_leave_idxs = list(patch_leave_idx - patch_entry_idx[0])\n",
    "\n",
    "# ##    for idxs in patch_trial_idx:\n",
    "# ##        patch_num = patch_trial_idx.index(idxs)\n",
    "# ##        if len(df.loc[idxs][\"travel_time\"].unique())>1:\n",
    "# ##            patch_trial_idx.remove(idxs)\n",
    "\n",
    "#     env_cum_rew = []\n",
    "#     patch_cum_rew = []\n",
    "#     for idxs in patch_trial_idx:\n",
    "#         patch_num = patch_trial_idx.index(idxs)\n",
    "#         tot_rew = np.array(df.loc[idxs][:][\"tot_reward\"])\n",
    "#         patch_rew = tot_rew-tot_rew[0]\n",
    "#         env_cum_rew+=list(tot_rew)\n",
    "#         patch_cum_rew.append(patch_rew)\n",
    "\n",
    "#     x_data = np.array([trial_time]*len(env_cum_rew))\n",
    "#     x_data[np.array(rel_leave_idxs)] = tt_cond; x_data[0]=0; x_data = np.cumsum(x_data)\n",
    "#     env_cum_rew = np.array(env_cum_rew)\n",
    "#     y_data = env_cum_rew-env_cum_rew[0]\n",
    "#     reg = LinearRegression(fit_intercept=False).fit(x_data.reshape(-1,1),y_data.reshape(-1,1))\n",
    "#     slope = reg.coef_; slope = slope.flatten()\n",
    "    \n",
    "#     long_patch_len = max([len(i) for i in patch_cum_rew])\n",
    "#     num_patches = len(patch_cum_rew)\n",
    "#     patch_len = [len(i) for i in patch_cum_rew]\n",
    "    \n",
    "#     stay_lock_patch_rew = np.nan*np.ones((num_patches,long_patch_len))\n",
    "\n",
    "#     for i in range(num_patches):\n",
    "#         stay_lock_patch_rew[i] = list(patch_cum_rew[i])+(long_patch_len-len(patch_cum_rew[i]))*[np.nan]\n",
    "    \n",
    "#     mean_rew = np.nanmean(stay_lock_patch_rew,0)\n",
    "#     popt,pcov = [],[]\n",
    "#     try:\n",
    "#         popt, pcov = curve_fit(neg_exp_resp, x_data[:len(mean_rew)],mean_rew)\n",
    "#         ax.plot(x_data[:len(mean_rew)],neg_exp_resp(x_data[:len(mean_rew)],*popt),'-'+c)\n",
    "#     except RuntimeError:\n",
    "#         pass\n",
    "#     ax.plot(x_data,x_data*slope,'--'+c,label=str(subid)+' '+str(stress_dict[stress_cond])+str(tt_dict[tt_cond]))\n",
    "# #     ax.plot(x_data,y_data,'-'+c,label=str(subid)+' '+str(stress_dict[stress_cond])+str(tt_dict[tt_cond]))\n",
    "#     ax.plot(x_data[:len(mean_rew)],mean_rew[:],'.'+c)\n",
    "#     ax.legend()\n",
    "#     return env_cum_rew,patch_cum_rew,popt,ax"
   ]
  },
  {
   "cell_type": "code",
   "execution_count": null,
   "id": "13bbe088-cda3-4258-baf0-127989479796",
   "metadata": {},
   "outputs": [],
   "source": [
    "# fig,ax=plt.subplots()"
   ]
  },
  {
   "cell_type": "code",
   "execution_count": null,
   "id": "19688784-a35e-4d99-908c-a2e1bd7dfe21",
   "metadata": {},
   "outputs": [],
   "source": [
    "# cum_rew_func_params = []\n",
    "\n",
    "# subid = 7873;\n",
    "\n",
    "# # stress = 1; tt = 5;  preshort_env_rew,  preshort_patch_rew,  opt_params, ax = cum_rew_func(df,subid,stress,tt,ax,'C0'); cum_rew_func_params.append(opt_params)\n",
    "# stress = 1; tt = 20; prelong_env_rew,   prelong_patch_rew,   opt_params, ax = cum_rew_func(df,subid,stress,tt,ax,'C1'); cum_rew_func_params.append(opt_params)\n",
    "# # stress = 2; tt = 5;  postshort_env_rew, postshort_patch_rew, opt_params, ax = cum_rew_func(df,subid,stress,tt,ax,'C2'); cum_rew_func_params.append(opt_params)\n",
    "# stress = 2; tt = 20; postlong_env_rew,  postlong_patch_rew,  opt_params, ax = cum_rew_func(df,subid,stress,tt,ax,'C3'); cum_rew_func_params.append(opt_params)\n",
    "\n",
    "# # subid = 15089;\n",
    "# # \n",
    "# # stress = 1; tt = 5;  preshort_env_rew,  preshort_patch_rew,  opt_params, ax = cum_rew_func(df,subid,stress,tt,ax,'C4'); cum_rew_func_params.append(opt_params)\n",
    "# # stress = 1; tt = 20; prelong_env_rew,   prelong_patch_rew,   opt_params, ax = cum_rew_func(df,subid,stress,tt,ax,'C5'); cum_rew_func_params.append(opt_params)\n",
    "# # stress = 2; tt = 5;  postshort_env_rew, postshort_patch_rew, opt_params, ax = cum_rew_func(df,subid,stress,tt,ax,'C6'); cum_rew_func_params.append(opt_params)\n",
    "# # stress = 2; tt = 20; postlong_env_rew,  postlong_patch_rew,  opt_params, ax = cum_rew_func(df,subid,stress,tt,ax,'C7'); cum_rew_func_params.append(opt_params)\n",
    "\n",
    "# # subid = 45194;\n",
    "\n",
    "# # stress = 1; tt = 5;  preshort_env_rew,  preshort_patch_rew,  opt_params, ax = cum_rew_func(df,subid,stress,tt,ax,'C8'); cum_rew_func_params.append(opt_params)\n",
    "# # stress = 1; tt = 20; prelong_env_rew,   prelong_patch_rew,   opt_params, ax = cum_rew_func(df,subid,stress,tt,ax,'C9'); cum_rew_func_params.append(opt_params)\n",
    "# # stress = 2; tt = 5;  postshort_env_rew, postshort_patch_rew, opt_params, ax = cum_rew_func(df,subid,stress,tt,ax,'C10'); cum_rew_func_params.append(opt_params)\n",
    "# # stress = 2; tt = 20; postlong_env_rew,  postlong_patch_rew,  opt_params, ax = cum_rew_func(df,subid,stress,tt,ax,'C11'); cum_rew_func_params.append(opt_params)\n",
    "\n",
    "# preshort_patch_rew\n",
    "# # np.mean([[preshort_patch_rew],[prelong_patch_rew],[postshort_patch_rew],[postlong_patch_rew]],0)"
   ]
  },
  {
   "cell_type": "code",
   "execution_count": 26,
   "id": "b7da012e",
   "metadata": {},
   "outputs": [
    {
     "data": {
      "text/plain": [
       "[[442, 443, 444, 445, 446, 447, 448],\n",
       " [449, 450, 451, 452, 453, 454, 455, 456, 457, 458],\n",
       " [459, 460, 461, 462, 463, 464, 465, 466],\n",
       " [467, 468, 469, 470, 471, 472, 473, 474, 475, 476, 477, 478]]"
      ]
     },
     "execution_count": 26,
     "metadata": {},
     "output_type": "execute_result"
    }
   ],
   "source": [
    "##Sections for testing:\n",
    "\n",
    "subid = 7873; \n",
    "\n",
    "stress_cond = 1; tt_cond = 5; c='C0'\n",
    "\n",
    "subid_filt = df[\"subj_idx\"]==subid\n",
    "stress_filt = df[\"condition\"]==stress_cond\n",
    "tt_filt = df[\"travel_time\"]==tt_cond\n",
    "patch_leave_idx = pd.Index(df[subid_filt & stress_filt & tt_filt & leave_resp_filt].index)\n",
    "patch_entry_idx = pd.Index([df[subid_filt & stress_filt & tt_filt].index[0]]+list(patch_leave_idx+1))\n",
    "patch_trial_idx = [list(range(i,j+1)) for (i,j) in list(zip(patch_entry_idx,patch_leave_idx))]\n",
    "# rel_patch_trial_idx = [np.array(i)-i[0] for i in patch_trial_idx]\n",
    "rel_leave_idxs = list(patch_leave_idx - patch_entry_idx[0])\n",
    "patch_trial_idx\n",
    "\n",
    "##    for idxs in patch_trial_idx:\n",
    "##        patch_num = patch_trial_idx.index(idxs)\n",
    "##        if len(df.loc[idxs][\"travel_time\"].unique())>1:\n",
    "##            patch_trial_idx.remove(idxs)"
   ]
  },
  {
   "cell_type": "code",
   "execution_count": 173,
   "id": "ea64a623",
   "metadata": {},
   "outputs": [
    {
     "data": {
      "text/plain": [
       "[<matplotlib.lines.Line2D at 0x1732d543fa0>]"
      ]
     },
     "execution_count": 173,
     "metadata": {},
     "output_type": "execute_result"
    },
    {
     "data": {
      "application/vnd.jupyter.widget-view+json": {
       "model_id": "7e437c3eaa51476681fdd04ef1d3e9a0",
       "version_major": 2,
       "version_minor": 0
      },
      "image/png": "[encoded data removed]",
      "text/html": [
       "\n",
       "            <div style=\"display: inline-block;\">\n",
       "                <div class=\"jupyter-widgets widget-label\" style=\"text-align: center;\">\n",
       "                    Figure\n",
       "                </div>\n",
       "                <img src='data:image/png;base64,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' width=640.0/>\n",
       "            </div>\n",
       "        "
      ],
      "text/plain": [
       "Canvas(toolbar=Toolbar(toolitems=[('Home', 'Reset original view', 'home', 'home'), ('Back', 'Back to previous …"
      ]
     },
     "metadata": {},
     "output_type": "display_data"
    }
   ],
   "source": [
    "fig,ax=plt.subplots()\n",
    "\n",
    "env_cum_rew = []\n",
    "patch_cum_rew = []\n",
    "for idxs in patch_trial_idx:\n",
    "    patch_num = patch_trial_idx.index(idxs)\n",
    "    tot_rew = np.array(df.loc[idxs][:][\"tot_reward\"])\n",
    "    patch_rew = tot_rew-tot_rew[0]\n",
    "    env_cum_rew+=list(tot_rew)\n",
    "    patch_cum_rew.append(patch_rew)\n",
    "\n",
    "x_data = np.array([trial_time]*len(env_cum_rew))\n",
    "x_data[np.array(rel_leave_idxs)] = tt_cond\n",
    "x_data[0]=0\n",
    "x_data = np.cumsum(list(x_data))\n",
    "# print(x_data)\n",
    "\n",
    "env_cum_rew = np.array(env_cum_rew)\n",
    "y_data = env_cum_rew-env_cum_rew[0]\n",
    "# print(y_data)\n",
    "\n",
    "reg = LinearRegression(fit_intercept=False).fit(x_data.reshape(-1,1),y_data.reshape(-1,1))\n",
    "slope = reg.coef_; slope = slope.flatten()\n",
    "\n",
    "ax.plot(x_data,x_data*slope,'--'+c)\n",
    "ax.plot(x_data,y_data,'.-'+c,label=str(subid)+' '+str(stress_dict[stress_cond])+str(tt_dict[tt_cond]))"
   ]
  },
  {
   "cell_type": "code",
   "execution_count": 174,
   "id": "8a3ede40-84f3-4a0b-8574-977ce9fef9c7",
   "metadata": {},
   "outputs": [],
   "source": [
    "long_patch_len = max([len(i) for i in patch_cum_rew])\n",
    "num_patches = len(patch_cum_rew)\n",
    "patch_len = [len(i) for i in patch_cum_rew]\n",
    "# print(num_patches,long_patch_len)\n",
    "\n",
    "stay_lock_patch_rew = np.nan*np.ones((num_patches,long_patch_len))\n",
    "# idxs = [0]+list(np.cumsum(patch_len))\n",
    "\n",
    "#stay_lock\n",
    "for i in range(num_patches):\n",
    "#     stay_lock_env_rew[i] = list(env_cum_rew[range(idxs[i],idxs[i+1])])+(long_patch_len-len(env_cum_rew[range(idxs[i],idxs[i+1])]))*[np.nan]\n",
    "    stay_lock_patch_rew[i] = list(patch_cum_rew[i])+(long_patch_len-len(patch_cum_rew[i]))*[np.nan]\n",
    "\n",
    "mean_rew = np.nanmean(stay_lock_patch_rew,0)\n",
    "# ax.plot(x_data[:len(mean_rew)],mean_rew[:],'.k')\n",
    "\n",
    "def neg_exp_resp(x,a,b):\n",
    "    return a*(1-np.exp(-b*x))\n",
    "\n",
    "sub_popt = []\n",
    "for i in range(num_patches):\n",
    "    popt, pcov = curve_fit(neg_exp_resp, x_data[:len(patch_cum_rew[i])],patch_cum_rew[i])\n",
    "    sub_popt.append(popt)\n",
    "    # ax.plot(x_data[:len(patch_cum_rew[i])],patch_cum_rew[i],'--'+c)#,label=\"Patch {}\".format(patch_num))\n",
    "    # ax.plot(x_data[:len(patch_cum_rew[i])],neg_exp_resp(x_data[:len(patch_cum_rew[i])],*popt),'-'+c)\n",
    "    "
   ]
  },
  {
   "cell_type": "code",
   "execution_count": 175,
   "id": "49997cff-6aa1-4676-a376-52d6838dc925",
   "metadata": {},
   "outputs": [
    {
     "name": "stdout",
     "output_type": "stream",
     "text": [
      "[array([0, 1, 2, 3, 4, 5, 6]), array([ 7,  8,  9, 10, 11, 12, 13, 14, 15, 16]), array([17, 18, 19, 20, 21, 22, 23, 24]), array([25, 26, 27, 28, 29, 30, 31, 32, 33, 34, 35, 36])]\n"
     ]
    }
   ],
   "source": [
    "sub_popt = np.array(sub_popt)\n",
    "opt = np.mean(sub_popt,0)\n",
    "# print(sub_popt,opt)\n",
    "# patch_len = [0]+[len(i) for i in patch_cum_rew]\n",
    "# patch_len = np.cumsum(patch_len)\n",
    "# idxs = [np.array(range(i,j)) for (i,j) in list(zip(patch_len[:-1],patch_len[1:]))]\n",
    "\n",
    "idxs = [np.array(i)-patch_trial_idx[0][0] for i in patch_trial_idx]\n",
    "print(idxs)\n",
    "\n",
    "y = []\n",
    "for i in range(num_patches):\n",
    "    x = x_data[idxs[i]]\n",
    "    patch_x = x_data[idxs[i]-idxs[i][0]]\n",
    "    patch_y = neg_exp_resp(patch_x,*opt)\n",
    "    patch_y[-1]=patch_y[-2]\n",
    "    y.append(patch_y)\n",
    "\n",
    "for i in range(1,num_patches):\n",
    "    y[i]=np.array(y[i])+y[i-1][-1]\n",
    "\n",
    "for i in range(num_patches):    \n",
    "    ax.plot(x_data[idxs[i]],y[i])\n"
   ]
  },
  {
   "cell_type": "code",
   "execution_count": 179,
   "id": "098d09b3",
   "metadata": {},
   "outputs": [
    {
     "data": {
      "text/plain": [
       "(array([3, 3, 3, 3, 3, 5, 3, 3, 3, 3, 3, 3, 3, 3, 3, 5, 3, 3, 3, 3, 3, 3,\n",
       "        3, 5, 3, 3, 3, 3, 3, 3, 3, 3, 3, 3, 3, 5], dtype=int32),\n",
       " array([3, 3, 3, 3, 3, 3, 3, 5, 3, 3, 3, 3, 3, 3, 3, 5, 3, 3, 3, 3, 3, 3,\n",
       "        3, 5, 3, 3, 3, 3, 3, 3, 3, 5, 3, 3, 3, 3], dtype=int32))"
      ]
     },
     "execution_count": 179,
     "metadata": {},
     "output_type": "execute_result"
    }
   ],
   "source": [
    "#Synthetic data for optimal calculation\n",
    "\n",
    "n=7\n",
    "leave_idxs=[0]\n",
    "while len(leave_idxs)<=len(env_cum_rew)-n:\n",
    "    leave_idxs+=([0]*n+[1])\n",
    "\n",
    "t_data = np.array([trial_time]*len(env_cum_rew))\n",
    "t_data[0]=0\n",
    "t_data[:len(leave_idxs)][np.array(leave_idxs)==1] = 5\n",
    "t_data = np.cumsum(t_data)\n"
   ]
  }
 ],
 "metadata": {
  "kernelspec": {
   "display_name": "Python 3 (ipykernel)",
   "language": "python",
   "name": "python3"
  },
  "language_info": {
   "codemirror_mode": {
    "name": "ipython",
    "version": 3
   },
   "file_extension": ".py",
   "mimetype": "text/x-python",
   "name": "python",
   "nbconvert_exporter": "python",
   "pygments_lexer": "ipython3",
   "version": "3.9.7"
  }
 },
 "nbformat": 4,
 "nbformat_minor": 5
}
