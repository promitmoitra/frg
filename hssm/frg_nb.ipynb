{
 "cells": [
  {
   "cell_type": "code",
   "execution_count": 1,
   "id": "d74d963a-d644-4f97-a82e-fdb8f79211aa",
   "metadata": {},
   "outputs": [],
   "source": [
    "import numpy as np\n",
    "import matplotlib.pyplot as plt\n",
    "%matplotlib widget\n",
    "import pandas as pd\n",
    "from scipy.optimize import curve_fit\n",
    "from sklearn.linear_model import LinearRegression\n",
    "\n",
    "prop_cycle = plt.rcParams['axes.prop_cycle']\n",
    "colors = prop_cycle.by_key()['color']"
   ]
  },
  {
   "cell_type": "code",
   "execution_count": 2,
   "id": "7698b352-5048-4684-8751-0859e2a215aa",
   "metadata": {},
   "outputs": [],
   "source": [
    "df = pd.read_csv(\"frg_norm_hssm.csv\")\n",
    "trial_time = 3\n",
    "stress_dict = {1:'pre',2:'post'}\n",
    "tt_dict = {5:'short',20:'long'}\n",
    "leave_resp_filt = df[\"response\"]==0"
   ]
  },
  {
   "cell_type": "code",
   "execution_count": null,
   "id": "0b50ee22-413d-43b4-9dce-8989de35c6da",
   "metadata": {},
   "outputs": [],
   "source": [
    "# def neg_exp_resp(x,a,b):\n",
    "#     return a*(1-np.exp(-b*x))\n",
    "\n",
    "# def cum_rew_func(df,subid,stress_cond,tt_cond,ax,c):\n",
    "#     subid_filt = df[\"subj_idx\"]==subid\n",
    "#     stress_filt = df[\"condition\"]==stress_cond\n",
    "#     tt_filt = df[\"travel_time\"]==tt_cond\n",
    "#     patch_leave_idx = pd.Index(df[subid_filt & stress_filt & tt_filt & leave_resp_filt].index)\n",
    "#     patch_entry_idx = pd.Index([df[subid_filt & stress_filt & tt_filt].index[0]]+list(patch_leave_idx+1))\n",
    "#     patch_trial_idx = [list(range(i,j+1)) for (i,j) in list(zip(patch_entry_idx,patch_leave_idx))]\n",
    "# #     rel_patch_trial_idx = [np.array(i)-i[0] for i in patch_trial_idx]\n",
    "#     rel_leave_idxs = list(patch_leave_idx - patch_entry_idx[0])\n",
    "\n",
    "# ##    for idxs in patch_trial_idx:\n",
    "# ##        patch_num = patch_trial_idx.index(idxs)\n",
    "# ##        if len(df.loc[idxs][\"travel_time\"].unique())>1:\n",
    "# ##            patch_trial_idx.remove(idxs)\n",
    "\n",
    "#     env_cum_rew = []\n",
    "#     patch_cum_rew = []\n",
    "#     for idxs in patch_trial_idx:\n",
    "#         patch_num = patch_trial_idx.index(idxs)\n",
    "#         tot_rew = np.array(df.loc[idxs][:][\"tot_reward\"])\n",
    "#         patch_rew = tot_rew-tot_rew[0]\n",
    "#         env_cum_rew+=list(tot_rew)\n",
    "#         patch_cum_rew.append(patch_rew)\n",
    "\n",
    "#     x_data = np.array([trial_time]*len(env_cum_rew))\n",
    "#     x_data[np.array(rel_leave_idxs)] = tt_cond; x_data[0]=0; x_data = np.cumsum(x_data)\n",
    "#     env_cum_rew = np.array(env_cum_rew)\n",
    "#     y_data = env_cum_rew-env_cum_rew[0]\n",
    "#     reg = LinearRegression(fit_intercept=False).fit(x_data.reshape(-1,1),y_data.reshape(-1,1))\n",
    "#     slope = reg.coef_; slope = slope.flatten()\n",
    "    \n",
    "#     long_patch_len = max([len(i) for i in patch_cum_rew])\n",
    "#     num_patches = len(patch_cum_rew)\n",
    "#     patch_len = [len(i) for i in patch_cum_rew]\n",
    "    \n",
    "#     stay_lock_patch_rew = np.nan*np.ones((num_patches,long_patch_len))\n",
    "\n",
    "#     for i in range(num_patches):\n",
    "#         stay_lock_patch_rew[i] = list(patch_cum_rew[i])+(long_patch_len-len(patch_cum_rew[i]))*[np.nan]\n",
    "    \n",
    "#     mean_rew = np.nanmean(stay_lock_patch_rew,0)\n",
    "#     popt,pcov = [],[]\n",
    "#     try:\n",
    "#         popt, pcov = curve_fit(neg_exp_resp, x_data[:len(mean_rew)],mean_rew)\n",
    "#         ax.plot(x_data[:len(mean_rew)],neg_exp_resp(x_data[:len(mean_rew)],*popt),'-'+c)\n",
    "#     except RuntimeError:\n",
    "#         pass\n",
    "#     ax.plot(x_data,x_data*slope,'--'+c,label=str(subid)+' '+str(stress_dict[stress_cond])+str(tt_dict[tt_cond]))\n",
    "# #     ax.plot(x_data,y_data,'-'+c,label=str(subid)+' '+str(stress_dict[stress_cond])+str(tt_dict[tt_cond]))\n",
    "#     ax.plot(x_data[:len(mean_rew)],mean_rew[:],'.'+c)\n",
    "#     ax.legend()\n",
    "#     return env_cum_rew,patch_cum_rew,popt,ax"
   ]
  },
  {
   "cell_type": "code",
   "execution_count": null,
   "id": "13bbe088-cda3-4258-baf0-127989479796",
   "metadata": {},
   "outputs": [],
   "source": [
    "# fig,ax=plt.subplots()"
   ]
  },
  {
   "cell_type": "code",
   "execution_count": null,
   "id": "19688784-a35e-4d99-908c-a2e1bd7dfe21",
   "metadata": {},
   "outputs": [],
   "source": [
    "# cum_rew_func_params = []\n",
    "\n",
    "# subid = 7873;\n",
    "\n",
    "# # stress = 1; tt = 5;  preshort_env_rew,  preshort_patch_rew,  opt_params, ax = cum_rew_func(df,subid,stress,tt,ax,'C0'); cum_rew_func_params.append(opt_params)\n",
    "# stress = 1; tt = 20; prelong_env_rew,   prelong_patch_rew,   opt_params, ax = cum_rew_func(df,subid,stress,tt,ax,'C1'); cum_rew_func_params.append(opt_params)\n",
    "# # stress = 2; tt = 5;  postshort_env_rew, postshort_patch_rew, opt_params, ax = cum_rew_func(df,subid,stress,tt,ax,'C2'); cum_rew_func_params.append(opt_params)\n",
    "# stress = 2; tt = 20; postlong_env_rew,  postlong_patch_rew,  opt_params, ax = cum_rew_func(df,subid,stress,tt,ax,'C3'); cum_rew_func_params.append(opt_params)\n",
    "\n",
    "# # subid = 15089;\n",
    "# # \n",
    "# # stress = 1; tt = 5;  preshort_env_rew,  preshort_patch_rew,  opt_params, ax = cum_rew_func(df,subid,stress,tt,ax,'C4'); cum_rew_func_params.append(opt_params)\n",
    "# # stress = 1; tt = 20; prelong_env_rew,   prelong_patch_rew,   opt_params, ax = cum_rew_func(df,subid,stress,tt,ax,'C5'); cum_rew_func_params.append(opt_params)\n",
    "# # stress = 2; tt = 5;  postshort_env_rew, postshort_patch_rew, opt_params, ax = cum_rew_func(df,subid,stress,tt,ax,'C6'); cum_rew_func_params.append(opt_params)\n",
    "# # stress = 2; tt = 20; postlong_env_rew,  postlong_patch_rew,  opt_params, ax = cum_rew_func(df,subid,stress,tt,ax,'C7'); cum_rew_func_params.append(opt_params)\n",
    "\n",
    "# # subid = 45194;\n",
    "\n",
    "# # stress = 1; tt = 5;  preshort_env_rew,  preshort_patch_rew,  opt_params, ax = cum_rew_func(df,subid,stress,tt,ax,'C8'); cum_rew_func_params.append(opt_params)\n",
    "# # stress = 1; tt = 20; prelong_env_rew,   prelong_patch_rew,   opt_params, ax = cum_rew_func(df,subid,stress,tt,ax,'C9'); cum_rew_func_params.append(opt_params)\n",
    "# # stress = 2; tt = 5;  postshort_env_rew, postshort_patch_rew, opt_params, ax = cum_rew_func(df,subid,stress,tt,ax,'C10'); cum_rew_func_params.append(opt_params)\n",
    "# # stress = 2; tt = 20; postlong_env_rew,  postlong_patch_rew,  opt_params, ax = cum_rew_func(df,subid,stress,tt,ax,'C11'); cum_rew_func_params.append(opt_params)\n",
    "\n",
    "# preshort_patch_rew\n",
    "# # np.mean([[preshort_patch_rew],[prelong_patch_rew],[postshort_patch_rew],[postlong_patch_rew]],0)"
   ]
  },
  {
   "cell_type": "code",
   "execution_count": 12,
   "id": "b7da012e",
   "metadata": {},
   "outputs": [
    {
     "name": "stdout",
     "output_type": "stream",
     "text": [
      "[[406, 407, 408, 409, 410, 411], [412, 413, 414, 415, 416, 417, 418, 419, 420, 421], [422, 423, 424, 425, 426, 427, 428, 429, 430, 431, 432, 433, 434, 435, 436]] \n",
      " [array([0, 1, 2, 3, 4, 5]), array([0, 1, 2, 3, 4, 5, 6, 7, 8, 9]), array([ 0,  1,  2,  3,  4,  5,  6,  7,  8,  9, 10, 11, 12, 13, 14])] \n",
      " [5, 15, 30]\n"
     ]
    }
   ],
   "source": [
    "##Sections for testing:\n",
    "\n",
    "subid = 7873; \n",
    "\n",
    "stress_cond = 1; tt_cond = 20; c='C0'\n",
    "\n",
    "subid_filt = df[\"subj_idx\"]==subid\n",
    "stress_filt = df[\"condition\"]==stress_cond\n",
    "tt_filt = df[\"travel_time\"]==tt_cond\n",
    "patch_leave_idx = pd.Index(df[subid_filt & stress_filt & tt_filt & leave_resp_filt].index)\n",
    "patch_entry_idx = pd.Index([df[subid_filt & stress_filt & tt_filt].index[0]]+list(patch_leave_idx+1))\n",
    "patch_trial_idx = [list(range(i,j+1)) for (i,j) in list(zip(patch_entry_idx,patch_leave_idx))]\n",
    "rel_trial_idx = [np.array(i)-i[0] for i in patch_trial_idx]\n",
    "rel_leave_idxs = list(patch_leave_idx - patch_entry_idx[0])\n",
    "print(patch_trial_idx,'\\n',rel_trial_idx,'\\n',rel_leave_idxs)\n",
    "\n",
    "##    for idxs in patch_trial_idx:\n",
    "##        patch_num = patch_trial_idx.index(idxs)\n",
    "##        if len(df.loc[idxs][\"travel_time\"].unique())>1:\n",
    "##            patch_trial_idx.remove(idxs)"
   ]
  },
  {
   "cell_type": "code",
   "execution_count": 13,
   "id": "ea64a623",
   "metadata": {},
   "outputs": [
    {
     "name": "stdout",
     "output_type": "stream",
     "text": [
      "[  0   3   6   9  12  32  35  38  41  44  47  50  53  56  59  79  82  85\n",
      "  88  91  94  97 100 103 106 109 112 115 118 121 141]\n"
     ]
    },
    {
     "data": {
      "text/plain": [
       "[<matplotlib.lines.Line2D at 0x7f3ac967a5e0>]"
      ]
     },
     "execution_count": 13,
     "metadata": {},
     "output_type": "execute_result"
    },
    {
     "data": {
      "application/vnd.jupyter.widget-view+json": {
       "model_id": "5ce1c6b7995a4851b1567fc1cf7ae75a",
       "version_major": 2,
       "version_minor": 0
      },
      "image/png": "[encoded data removed]",
      "text/html": [
       "\n",
       "            <div style=\"display: inline-block;\">\n",
       "                <div class=\"jupyter-widgets widget-label\" style=\"text-align: center;\">\n",
       "                    Figure\n",
       "                </div>\n",
       "                <img src='data:image/png;base64,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' width=640.0/>\n",
       "            </div>\n",
       "        "
      ],
      "text/plain": [
       "Canvas(toolbar=Toolbar(toolitems=[('Home', 'Reset original view', 'home', 'home'), ('Back', 'Back to previous …"
      ]
     },
     "metadata": {},
     "output_type": "display_data"
    }
   ],
   "source": [
    "fig,ax=plt.subplots()\n",
    "\n",
    "env_cum_rew = []\n",
    "patch_cum_rew = []\n",
    "for idxs in patch_trial_idx:\n",
    "    patch_num = patch_trial_idx.index(idxs)\n",
    "    tot_rew = np.array(df.loc[idxs][:][\"tot_reward\"])\n",
    "    patch_rew = tot_rew-tot_rew[0]\n",
    "    env_cum_rew+=list(tot_rew)\n",
    "    patch_cum_rew.append(patch_rew)\n",
    "\n",
    "x_data = np.array([trial_time]*len(env_cum_rew))\n",
    "x_data[np.array(rel_leave_idxs)] = tt_cond\n",
    "x_data[0]=0\n",
    "x_data = np.cumsum(list(x_data))\n",
    "print(x_data)\n",
    "\n",
    "env_cum_rew = np.array(env_cum_rew)\n",
    "y_data = env_cum_rew-env_cum_rew[0]\n",
    "# print(y_data)\n",
    "\n",
    "reg = LinearRegression(fit_intercept=False).fit(x_data.reshape(-1,1),y_data.reshape(-1,1))\n",
    "slope = reg.coef_; slope = slope.flatten()\n",
    "\n",
    "ax.plot(x_data,x_data*slope,'--'+c)\n",
    "ax.plot(x_data,y_data,'.-'+c,label=str(subid)+' '+str(stress_dict[stress_cond])+str(tt_dict[tt_cond]))"
   ]
  },
  {
   "cell_type": "code",
   "execution_count": 16,
   "id": "8a3ede40-84f3-4a0b-8574-977ce9fef9c7",
   "metadata": {},
   "outputs": [
    {
     "name": "stdout",
     "output_type": "stream",
     "text": [
      "[[0.0631931  0.13879488]] \n",
      " [0.13100214 0.07673237]\n"
     ]
    }
   ],
   "source": [
    "long_patch_len = max([len(i) for i in patch_cum_rew])\n",
    "num_patches = len(patch_cum_rew)\n",
    "patch_len = [len(i) for i in patch_cum_rew]\n",
    "# print(num_patches,long_patch_len)\n",
    "\n",
    "stay_lock_patch_rew = np.nan*np.ones((num_patches,long_patch_len))\n",
    "# idxs = [0]+list(np.cumsum(patch_len))\n",
    "\n",
    "#stay_lock\n",
    "for i in range(num_patches):\n",
    "#     stay_lock_env_rew[i] = list(env_cum_rew[range(idxs[i],idxs[i+1])])+(long_patch_len-len(env_cum_rew[range(idxs[i],idxs[i+1])]))*[np.nan]\n",
    "    stay_lock_patch_rew[i] = list(patch_cum_rew[i])+(long_patch_len-len(patch_cum_rew[i]))*[np.nan]\n",
    "\n",
    "mean_rew = np.nanmean(stay_lock_patch_rew,0)\n",
    "# ax.plot(x_data[:len(mean_rew)],mean_rew[:],'.k')\n",
    "\n",
    "def neg_exp_resp(x,a,b):\n",
    "    return a*(1-np.exp(-b*x))\n",
    "\n",
    "sub_popt = []\n",
    "for i in range(num_patches):\n",
    "    popt, pcov = curve_fit(neg_exp_resp, x_data[:len(patch_cum_rew[i])],patch_cum_rew[i])\n",
    "    sub_popt.append(popt)\n",
    "    # ax.plot(x_data[:len(patch_cum_rew[i])],patch_cum_rew[i],'--'+c)#,label=\"Patch {}\".format(patch_num))\n",
    "    # ax.plot(x_data[:len(patch_cum_rew[i])],neg_exp_resp(x_data[:len(patch_cum_rew[i])],*popt),'-'+c)\n",
    "\n",
    "sub_popt = np.array(sub_popt)\n",
    "opt = np.mean(sub_popt,0)\n",
    "# opt = sub_popt[np.where(sub_popt[:,1]==max(sub_popt[:,1]))[0]][0]\n",
    "print(sub_popt[np.where(sub_popt[:,1]==max(sub_popt[:,1]))[0]],'\\n',opt)"
   ]
  },
  {
   "cell_type": "code",
   "execution_count": null,
   "id": "317724b0",
   "metadata": {},
   "outputs": [],
   "source": [
    "# opt = "
   ]
  },
  {
   "cell_type": "code",
   "execution_count": 18,
   "id": "49997cff-6aa1-4676-a376-52d6838dc925",
   "metadata": {},
   "outputs": [
    {
     "name": "stdout",
     "output_type": "stream",
     "text": [
      "[array([0, 1, 2, 3, 4, 5]), array([ 6,  7,  8,  9, 10, 11, 12, 13, 14, 15]), array([16, 17, 18, 19, 20, 21, 22, 23, 24, 25, 26, 27, 28, 29, 30])] [array([0, 1, 2, 3, 4, 5]), array([0, 1, 2, 3, 4, 5, 6, 7, 8, 9]), array([ 0,  1,  2,  3,  4,  5,  6,  7,  8,  9, 10, 11, 12, 13, 14])]\n"
     ]
    },
    {
     "ename": "NameError",
     "evalue": "name 'rel_trial_idxs' is not defined",
     "output_type": "error",
     "traceback": [
      "\u001b[0;31m---------------------------------------------------------------------------\u001b[0m",
      "\u001b[0;31mNameError\u001b[0m                                 Traceback (most recent call last)",
      "Cell \u001b[0;32mIn [18], line 13\u001b[0m\n\u001b[1;32m     11\u001b[0m \u001b[38;5;66;03m#     print(x)\u001b[39;00m\n\u001b[1;32m     12\u001b[0m     \u001b[38;5;28;01mif\u001b[39;00m i\u001b[38;5;241m==\u001b[39m\u001b[38;5;241m0\u001b[39m:\n\u001b[0;32m---> 13\u001b[0m         patch_x \u001b[38;5;241m=\u001b[39m x_data[\u001b[43mrel_trial_idxs\u001b[49m[i]]\n\u001b[1;32m     14\u001b[0m     \u001b[38;5;28;01melse\u001b[39;00m:\n\u001b[1;32m     15\u001b[0m         patch_x \u001b[38;5;241m=\u001b[39m x_data[np\u001b[38;5;241m.\u001b[39marray(rel_trial_idxs[i])\u001b[38;5;241m+\u001b[39m\u001b[38;5;241m1\u001b[39m]\n",
      "\u001b[0;31mNameError\u001b[0m: name 'rel_trial_idxs' is not defined"
     ]
    }
   ],
   "source": [
    "# patch_len = [0]+[len(i) for i in patch_cum_rew]\n",
    "# patch_len = np.cumsum(patch_len)\n",
    "# idxs = [np.array(range(i,j)) for (i,j) in list(zip(patch_len[:-1],patch_len[1:]))]\n",
    "\n",
    "trial_idxs = [np.array(i)-patch_trial_idx[0][0] for i in patch_trial_idx]\n",
    "patch_trial_idxs = [np.array(i)-i[0] for i in trial_idxs]\n",
    "print(trial_idxs,patch_trial_idxs)\n",
    "y = []\n",
    "for i in range(num_patches):\n",
    "    x = x_data[trial_idxs[i]]\n",
    "#     print(x)\n",
    "    if i==0:\n",
    "        patch_x = x_data[rel_trial_idxs[i]]\n",
    "    else:\n",
    "        patch_x = x_data[np.array(rel_trial_idxs[i])+1]\n",
    "    patch_y = neg_exp_resp(patch_x,*opt)\n",
    "    patch_y[-1]=patch_y[-2]\n",
    "    y.append(patch_y)\n",
    "\n",
    "#Offset rewards:\n",
    "for i in range(1,num_patches):\n",
    "    y[i]=np.array(y[i])+y[i-1][-1]\n",
    "\n",
    "for i in range(num_patches):\n",
    "    x = x_data[trial_idxs[i]]\n",
    "    ax.plot(x,y[i],'-C1')"
   ]
  },
  {
   "cell_type": "code",
   "execution_count": 15,
   "id": "098d09b3",
   "metadata": {},
   "outputs": [
    {
     "data": {
      "text/plain": [
       "<matplotlib.legend.Legend at 0x7f3ac9639c40>"
      ]
     },
     "execution_count": 15,
     "metadata": {},
     "output_type": "execute_result"
    }
   ],
   "source": [
    "#Synthetic data for optimal calculation\n",
    "\n",
    "n=1\n",
    "def mvt_opt(n_stay,num_trials,tt_cond,opt,ax,c):\n",
    "    leave_locs=[0]\n",
    "    while len(leave_locs)<=num_trials:\n",
    "        leave_locs+=([0]*n_stay+[1])\n",
    "\n",
    "    leave_idxs = np.where(np.array(leave_locs)==1)[0]\n",
    "    leave_idxs = leave_idxs[leave_idxs<num_trials]\n",
    "    entry_idxs = np.array([0]+list(leave_idxs[:-1]+1))\n",
    "    entry_idxs = entry_idxs[entry_idxs<num_trials]\n",
    "\n",
    "    t_data = np.array([trial_time]*num_trials);t_data[0]=0\n",
    "    t_data[leave_idxs] = tt_cond; t_data = np.cumsum(t_data);\n",
    "    t_data = t_data[t_data<x_data[-1]]\n",
    "    leave_idxs = leave_idxs[leave_idxs<len(t_data)]\n",
    "    entry_idxs = entry_idxs[entry_idxs<len(t_data)]\n",
    "\n",
    "    trial_idxs = [list(range(i,j)) for (i,j) in list(zip(entry_idxs[:-1],entry_idxs[1:]))]\n",
    "    rel_trial_idxs = [np.array(i)-i[0] for i in trial_idxs]\n",
    "    num_patch = len(trial_idxs)\n",
    "\n",
    "    y = []\n",
    "    for i in range(num_patch):\n",
    "        t = t_data[trial_idxs[i]]\n",
    "#         print(t)\n",
    "        if i==0:\n",
    "            patch_x = t_data[np.array(rel_trial_idxs[i])]\n",
    "        else:\n",
    "            patch_x = t_data[np.array(rel_trial_idxs[i])+1]\n",
    "        patch_y = neg_exp_resp(patch_x,*opt)\n",
    "        patch_y[-1]=patch_y[-2]\n",
    "        y.append(patch_y)\n",
    "\n",
    "    for i in range(1,num_patch):\n",
    "        y[i]=np.array(y[i])+y[i-1][-1]\n",
    "\n",
    "    for i in range(num_patch):\n",
    "        t = t_data[trial_idxs[i]]\n",
    "        r = y[i]\n",
    "#         ax.plot(t,r,c)\n",
    "    rew = np.concatenate([i for i in y])\n",
    "    reg = LinearRegression(fit_intercept=False).fit(t_data[:len(rew)].reshape(-1,1),rew.reshape(-1,1))\n",
    "    slope = reg.coef_; slope = slope.flatten()\n",
    "    ax.plot(t_data,slope*t_data,c,label=\"{}\".format(n_stay))\n",
    "    return [rew,slope]\n",
    "\n",
    "sub_num_trials = len(env_cum_rew)\n",
    "# fig,ax=plt.subplots()\n",
    "# mvt_opt(3,sub_num_trials,opt,ax,'C'+str(i))\n",
    "\n",
    "cum_res = []\n",
    "for i in range(1,10):\n",
    "    [n_rew,n_rate] = mvt_opt(i,sub_num_trials,tt_cond,opt,ax,colors[i])\n",
    "    cum_res.append([n_rew,n_rate])\n",
    "ax.legend()"
   ]
  },
  {
   "cell_type": "code",
   "execution_count": null,
   "id": "c3dd4baa",
   "metadata": {
    "scrolled": true
   },
   "outputs": [],
   "source": [
    "print(np.shape(cum_res))\n",
    "print([len(i) for i in cum_res])\n",
    "fig2,ax2=plt.subplots()\n",
    "ax2.plot(range(1,10),np.array(cum_res)[:,0])"
   ]
  }
 ],
 "metadata": {
  "kernelspec": {
   "display_name": "Python 3 (ipykernel)",
   "language": "python",
   "name": "python3"
  },
  "language_info": {
   "codemirror_mode": {
    "name": "ipython",
    "version": 3
   },
   "file_extension": ".py",
   "mimetype": "text/x-python",
   "name": "python",
   "nbconvert_exporter": "python",
   "pygments_lexer": "ipython3",
   "version": "3.8.10"
  }
 },
 "nbformat": 4,
 "nbformat_minor": 5
}
